{
 "cells": [
  {
   "cell_type": "code",
   "execution_count": 1,
   "id": "0cbf363d",
   "metadata": {
    "_cell_guid": "b1076dfc-b9ad-4769-8c92-a6c4dae69d19",
    "_uuid": "8f2839f25d086af736a60e9eeb907d3b93b6e0e5",
    "execution": {
     "iopub.execute_input": "2023-01-11T15:45:12.006368Z",
     "iopub.status.busy": "2023-01-11T15:45:12.005726Z",
     "iopub.status.idle": "2023-01-11T15:45:12.020859Z",
     "shell.execute_reply": "2023-01-11T15:45:12.019680Z"
    },
    "papermill": {
     "duration": 0.026091,
     "end_time": "2023-01-11T15:45:12.025218",
     "exception": false,
     "start_time": "2023-01-11T15:45:11.999127",
     "status": "completed"
    },
    "tags": []
   },
   "outputs": [
    {
     "name": "stdout",
     "output_type": "stream",
     "text": [
      "/kaggle/input/titanic/train.csv\n",
      "/kaggle/input/titanic/test.csv\n",
      "/kaggle/input/titanic/gender_submission.csv\n"
     ]
    }
   ],
   "source": [
    "# This Python 3 environment comes with many helpful analytics libraries installed\n",
    "# It is defined by the kaggle/python Docker image: https://github.com/kaggle/docker-python\n",
    "# For example, here's several helpful packages to load\n",
    "\n",
    "import numpy as np # linear algebra\n",
    "import pandas as pd # data processing, CSV file I/O (e.g. pd.read_csv)\n",
    "\n",
    "# Input data files are available in the read-only \"../input/\" directory\n",
    "# For example, running this (by clicking run or pressing Shift+Enter) will list all files under the input directory\n",
    "\n",
    "import os\n",
    "for dirname, _, filenames in os.walk('/kaggle/input'):\n",
    "    for filename in filenames:\n",
    "        print(os.path.join(dirname, filename))\n",
    "\n",
    "# You can write up to 20GB to the current directory (/kaggle/working/) that gets preserved as output when you create a version using \"Save & Run All\" \n",
    "# You can also write temporary files to /kaggle/temp/, but they won't be saved outside of the current session"
   ]
  },
  {
   "cell_type": "markdown",
   "id": "9521d6a8",
   "metadata": {
    "papermill": {
     "duration": 0.003408,
     "end_time": "2023-01-11T15:45:12.033715",
     "exception": false,
     "start_time": "2023-01-11T15:45:12.030307",
     "status": "completed"
    },
    "tags": []
   },
   "source": [
    "Importing Libraries"
   ]
  },
  {
   "cell_type": "code",
   "execution_count": 2,
   "id": "49838ef1",
   "metadata": {
    "execution": {
     "iopub.execute_input": "2023-01-11T15:45:12.042937Z",
     "iopub.status.busy": "2023-01-11T15:45:12.042284Z",
     "iopub.status.idle": "2023-01-11T15:45:13.297911Z",
     "shell.execute_reply": "2023-01-11T15:45:13.296653Z"
    },
    "papermill": {
     "duration": 1.263547,
     "end_time": "2023-01-11T15:45:13.300805",
     "exception": false,
     "start_time": "2023-01-11T15:45:12.037258",
     "status": "completed"
    },
    "tags": []
   },
   "outputs": [],
   "source": [
    "import numpy as np \n",
    "import pandas as pd\n",
    "import matplotlib.pyplot as plt\n",
    "from sklearn.model_selection import train_test_split\n",
    "from sklearn.linear_model import LogisticRegression\n",
    "from sklearn.metrics import accuracy_score"
   ]
  },
  {
   "cell_type": "markdown",
   "id": "df5fd4d9",
   "metadata": {
    "papermill": {
     "duration": 0.003573,
     "end_time": "2023-01-11T15:45:13.308073",
     "exception": false,
     "start_time": "2023-01-11T15:45:13.304500",
     "status": "completed"
    },
    "tags": []
   },
   "source": [
    "Data Collection and Processing"
   ]
  },
  {
   "cell_type": "code",
   "execution_count": 3,
   "id": "740f46b4",
   "metadata": {
    "execution": {
     "iopub.execute_input": "2023-01-11T15:45:13.317901Z",
     "iopub.status.busy": "2023-01-11T15:45:13.316850Z",
     "iopub.status.idle": "2023-01-11T15:45:13.340560Z",
     "shell.execute_reply": "2023-01-11T15:45:13.339255Z"
    },
    "papermill": {
     "duration": 0.031801,
     "end_time": "2023-01-11T15:45:13.343435",
     "exception": false,
     "start_time": "2023-01-11T15:45:13.311634",
     "status": "completed"
    },
    "tags": []
   },
   "outputs": [],
   "source": [
    "# Loading the Data from CSV file to Pandas DataFrame.\n",
    "\n",
    "titanicData = pd.read_csv(\"/kaggle/input/titanic/train.csv\")"
   ]
  },
  {
   "cell_type": "code",
   "execution_count": 4,
   "id": "90a38fbc",
   "metadata": {
    "execution": {
     "iopub.execute_input": "2023-01-11T15:45:13.352736Z",
     "iopub.status.busy": "2023-01-11T15:45:13.352299Z",
     "iopub.status.idle": "2023-01-11T15:45:13.377488Z",
     "shell.execute_reply": "2023-01-11T15:45:13.376146Z"
    },
    "papermill": {
     "duration": 0.033138,
     "end_time": "2023-01-11T15:45:13.380197",
     "exception": false,
     "start_time": "2023-01-11T15:45:13.347059",
     "status": "completed"
    },
    "tags": []
   },
   "outputs": [
    {
     "data": {
      "text/html": [
       "<div>\n",
       "<style scoped>\n",
       "    .dataframe tbody tr th:only-of-type {\n",
       "        vertical-align: middle;\n",
       "    }\n",
       "\n",
       "    .dataframe tbody tr th {\n",
       "        vertical-align: top;\n",
       "    }\n",
       "\n",
       "    .dataframe thead th {\n",
       "        text-align: right;\n",
       "    }\n",
       "</style>\n",
       "<table border=\"1\" class=\"dataframe\">\n",
       "  <thead>\n",
       "    <tr style=\"text-align: right;\">\n",
       "      <th></th>\n",
       "      <th>PassengerId</th>\n",
       "      <th>Survived</th>\n",
       "      <th>Pclass</th>\n",
       "      <th>Name</th>\n",
       "      <th>Sex</th>\n",
       "      <th>Age</th>\n",
       "      <th>SibSp</th>\n",
       "      <th>Parch</th>\n",
       "      <th>Ticket</th>\n",
       "      <th>Fare</th>\n",
       "      <th>Cabin</th>\n",
       "      <th>Embarked</th>\n",
       "    </tr>\n",
       "  </thead>\n",
       "  <tbody>\n",
       "    <tr>\n",
       "      <th>0</th>\n",
       "      <td>1</td>\n",
       "      <td>0</td>\n",
       "      <td>3</td>\n",
       "      <td>Braund, Mr. Owen Harris</td>\n",
       "      <td>male</td>\n",
       "      <td>22.0</td>\n",
       "      <td>1</td>\n",
       "      <td>0</td>\n",
       "      <td>A/5 21171</td>\n",
       "      <td>7.2500</td>\n",
       "      <td>NaN</td>\n",
       "      <td>S</td>\n",
       "    </tr>\n",
       "    <tr>\n",
       "      <th>1</th>\n",
       "      <td>2</td>\n",
       "      <td>1</td>\n",
       "      <td>1</td>\n",
       "      <td>Cumings, Mrs. John Bradley (Florence Briggs Th...</td>\n",
       "      <td>female</td>\n",
       "      <td>38.0</td>\n",
       "      <td>1</td>\n",
       "      <td>0</td>\n",
       "      <td>PC 17599</td>\n",
       "      <td>71.2833</td>\n",
       "      <td>C85</td>\n",
       "      <td>C</td>\n",
       "    </tr>\n",
       "    <tr>\n",
       "      <th>2</th>\n",
       "      <td>3</td>\n",
       "      <td>1</td>\n",
       "      <td>3</td>\n",
       "      <td>Heikkinen, Miss. Laina</td>\n",
       "      <td>female</td>\n",
       "      <td>26.0</td>\n",
       "      <td>0</td>\n",
       "      <td>0</td>\n",
       "      <td>STON/O2. 3101282</td>\n",
       "      <td>7.9250</td>\n",
       "      <td>NaN</td>\n",
       "      <td>S</td>\n",
       "    </tr>\n",
       "    <tr>\n",
       "      <th>3</th>\n",
       "      <td>4</td>\n",
       "      <td>1</td>\n",
       "      <td>1</td>\n",
       "      <td>Futrelle, Mrs. Jacques Heath (Lily May Peel)</td>\n",
       "      <td>female</td>\n",
       "      <td>35.0</td>\n",
       "      <td>1</td>\n",
       "      <td>0</td>\n",
       "      <td>113803</td>\n",
       "      <td>53.1000</td>\n",
       "      <td>C123</td>\n",
       "      <td>S</td>\n",
       "    </tr>\n",
       "    <tr>\n",
       "      <th>4</th>\n",
       "      <td>5</td>\n",
       "      <td>0</td>\n",
       "      <td>3</td>\n",
       "      <td>Allen, Mr. William Henry</td>\n",
       "      <td>male</td>\n",
       "      <td>35.0</td>\n",
       "      <td>0</td>\n",
       "      <td>0</td>\n",
       "      <td>373450</td>\n",
       "      <td>8.0500</td>\n",
       "      <td>NaN</td>\n",
       "      <td>S</td>\n",
       "    </tr>\n",
       "  </tbody>\n",
       "</table>\n",
       "</div>"
      ],
      "text/plain": [
       "   PassengerId  Survived  Pclass  \\\n",
       "0            1         0       3   \n",
       "1            2         1       1   \n",
       "2            3         1       3   \n",
       "3            4         1       1   \n",
       "4            5         0       3   \n",
       "\n",
       "                                                Name     Sex   Age  SibSp  \\\n",
       "0                            Braund, Mr. Owen Harris    male  22.0      1   \n",
       "1  Cumings, Mrs. John Bradley (Florence Briggs Th...  female  38.0      1   \n",
       "2                             Heikkinen, Miss. Laina  female  26.0      0   \n",
       "3       Futrelle, Mrs. Jacques Heath (Lily May Peel)  female  35.0      1   \n",
       "4                           Allen, Mr. William Henry    male  35.0      0   \n",
       "\n",
       "   Parch            Ticket     Fare Cabin Embarked  \n",
       "0      0         A/5 21171   7.2500   NaN        S  \n",
       "1      0          PC 17599  71.2833   C85        C  \n",
       "2      0  STON/O2. 3101282   7.9250   NaN        S  \n",
       "3      0            113803  53.1000  C123        S  \n",
       "4      0            373450   8.0500   NaN        S  "
      ]
     },
     "execution_count": 4,
     "metadata": {},
     "output_type": "execute_result"
    }
   ],
   "source": [
    "# Printing the Header of the dataframe, Header means first five rows of the dataframe\n",
    "\n",
    "titanicData.head()"
   ]
  },
  {
   "cell_type": "code",
   "execution_count": 5,
   "id": "c4ddd451",
   "metadata": {
    "execution": {
     "iopub.execute_input": "2023-01-11T15:45:13.389477Z",
     "iopub.status.busy": "2023-01-11T15:45:13.389056Z",
     "iopub.status.idle": "2023-01-11T15:45:13.395502Z",
     "shell.execute_reply": "2023-01-11T15:45:13.394284Z"
    },
    "papermill": {
     "duration": 0.013998,
     "end_time": "2023-01-11T15:45:13.397986",
     "exception": false,
     "start_time": "2023-01-11T15:45:13.383988",
     "status": "completed"
    },
    "tags": []
   },
   "outputs": [
    {
     "data": {
      "text/plain": [
       "(891, 12)"
      ]
     },
     "execution_count": 5,
     "metadata": {},
     "output_type": "execute_result"
    }
   ],
   "source": [
    "# Number of Rows and Columns \n",
    "titanicData.shape"
   ]
  },
  {
   "cell_type": "code",
   "execution_count": 6,
   "id": "774bc124",
   "metadata": {
    "execution": {
     "iopub.execute_input": "2023-01-11T15:45:13.407848Z",
     "iopub.status.busy": "2023-01-11T15:45:13.407466Z",
     "iopub.status.idle": "2023-01-11T15:45:13.433487Z",
     "shell.execute_reply": "2023-01-11T15:45:13.432489Z"
    },
    "papermill": {
     "duration": 0.034314,
     "end_time": "2023-01-11T15:45:13.436271",
     "exception": false,
     "start_time": "2023-01-11T15:45:13.401957",
     "status": "completed"
    },
    "tags": []
   },
   "outputs": [
    {
     "name": "stdout",
     "output_type": "stream",
     "text": [
      "<class 'pandas.core.frame.DataFrame'>\n",
      "RangeIndex: 891 entries, 0 to 890\n",
      "Data columns (total 12 columns):\n",
      " #   Column       Non-Null Count  Dtype  \n",
      "---  ------       --------------  -----  \n",
      " 0   PassengerId  891 non-null    int64  \n",
      " 1   Survived     891 non-null    int64  \n",
      " 2   Pclass       891 non-null    int64  \n",
      " 3   Name         891 non-null    object \n",
      " 4   Sex          891 non-null    object \n",
      " 5   Age          714 non-null    float64\n",
      " 6   SibSp        891 non-null    int64  \n",
      " 7   Parch        891 non-null    int64  \n",
      " 8   Ticket       891 non-null    object \n",
      " 9   Fare         891 non-null    float64\n",
      " 10  Cabin        204 non-null    object \n",
      " 11  Embarked     889 non-null    object \n",
      "dtypes: float64(2), int64(5), object(5)\n",
      "memory usage: 83.7+ KB\n"
     ]
    }
   ],
   "source": [
    "# Getting Some Information about data. \n",
    "\n",
    "titanicData.info()\n",
    "# There are 891 rows, but in some columns there are 714 non-null values which means ..\n",
    "# ... these Columns have some null values."
   ]
  },
  {
   "cell_type": "code",
   "execution_count": 7,
   "id": "e42074ab",
   "metadata": {
    "execution": {
     "iopub.execute_input": "2023-01-11T15:45:13.446870Z",
     "iopub.status.busy": "2023-01-11T15:45:13.445837Z",
     "iopub.status.idle": "2023-01-11T15:45:13.455733Z",
     "shell.execute_reply": "2023-01-11T15:45:13.454629Z"
    },
    "papermill": {
     "duration": 0.017827,
     "end_time": "2023-01-11T15:45:13.458349",
     "exception": false,
     "start_time": "2023-01-11T15:45:13.440522",
     "status": "completed"
    },
    "tags": []
   },
   "outputs": [
    {
     "data": {
      "text/plain": [
       "PassengerId      0\n",
       "Survived         0\n",
       "Pclass           0\n",
       "Name             0\n",
       "Sex              0\n",
       "Age            177\n",
       "SibSp            0\n",
       "Parch            0\n",
       "Ticket           0\n",
       "Fare             0\n",
       "Cabin          687\n",
       "Embarked         2\n",
       "dtype: int64"
      ]
     },
     "execution_count": 7,
     "metadata": {},
     "output_type": "execute_result"
    }
   ],
   "source": [
    "# Checking Missing Values in each Column\n",
    "\n",
    "titanicData.isnull().sum()\n",
    "\n",
    "# We have 177 missing values in our Age Column\n",
    "# We have 687 missing values in our Cabin Column\n",
    "# We have 2 missing values in our Embarked Column"
   ]
  },
  {
   "cell_type": "markdown",
   "id": "6eb27bd9",
   "metadata": {
    "papermill": {
     "duration": 0.003701,
     "end_time": "2023-01-11T15:45:13.466133",
     "exception": false,
     "start_time": "2023-01-11T15:45:13.462432",
     "status": "completed"
    },
    "tags": []
   },
   "source": [
    "Handling the Missing Values"
   ]
  },
  {
   "cell_type": "code",
   "execution_count": 8,
   "id": "8bbf9468",
   "metadata": {
    "execution": {
     "iopub.execute_input": "2023-01-11T15:45:13.476063Z",
     "iopub.status.busy": "2023-01-11T15:45:13.475681Z",
     "iopub.status.idle": "2023-01-11T15:45:13.483134Z",
     "shell.execute_reply": "2023-01-11T15:45:13.481917Z"
    },
    "papermill": {
     "duration": 0.015342,
     "end_time": "2023-01-11T15:45:13.485455",
     "exception": false,
     "start_time": "2023-01-11T15:45:13.470113",
     "status": "completed"
    },
    "tags": []
   },
   "outputs": [],
   "source": [
    "# Dropping the Cabin Column because there are so many Missing values/NaN values \n",
    "# Column `Cabin` has a significant amount of missing values so we can't delete records of empty Cabin values.\n",
    "# we have to drop Column `Cabin`\n",
    "\n",
    "titanicData = titanicData.drop(columns='Cabin', axis = 1)"
   ]
  },
  {
   "cell_type": "code",
   "execution_count": null,
   "id": "cf22e9d8",
   "metadata": {
    "papermill": {
     "duration": 0.003804,
     "end_time": "2023-01-11T15:45:13.493438",
     "exception": false,
     "start_time": "2023-01-11T15:45:13.489634",
     "status": "completed"
    },
    "tags": []
   },
   "outputs": [],
   "source": []
  }
 ],
 "metadata": {
  "kernelspec": {
   "display_name": "Python 3",
   "language": "python",
   "name": "python3"
  },
  "language_info": {
   "codemirror_mode": {
    "name": "ipython",
    "version": 3
   },
   "file_extension": ".py",
   "mimetype": "text/x-python",
   "name": "python",
   "nbconvert_exporter": "python",
   "pygments_lexer": "ipython3",
   "version": "3.7.12"
  },
  "papermill": {
   "default_parameters": {},
   "duration": 10.956956,
   "end_time": "2023-01-11T15:45:14.219954",
   "environment_variables": {},
   "exception": null,
   "input_path": "__notebook__.ipynb",
   "output_path": "__notebook__.ipynb",
   "parameters": {},
   "start_time": "2023-01-11T15:45:03.262998",
   "version": "2.3.4"
  }
 },
 "nbformat": 4,
 "nbformat_minor": 5
}
