{
 "cells": [
  {
   "cell_type": "code",
   "execution_count": 1,
   "id": "361b0dcc",
   "metadata": {
    "_cell_guid": "b1076dfc-b9ad-4769-8c92-a6c4dae69d19",
    "_uuid": "8f2839f25d086af736a60e9eeb907d3b93b6e0e5",
    "execution": {
     "iopub.execute_input": "2023-01-11T15:49:53.561744Z",
     "iopub.status.busy": "2023-01-11T15:49:53.561301Z",
     "iopub.status.idle": "2023-01-11T15:49:53.573842Z",
     "shell.execute_reply": "2023-01-11T15:49:53.572485Z"
    },
    "papermill": {
     "duration": 0.020364,
     "end_time": "2023-01-11T15:49:53.575822",
     "exception": false,
     "start_time": "2023-01-11T15:49:53.555458",
     "status": "completed"
    },
    "tags": []
   },
   "outputs": [
    {
     "name": "stdout",
     "output_type": "stream",
     "text": [
      "/kaggle/input/titanic/train.csv\n",
      "/kaggle/input/titanic/test.csv\n",
      "/kaggle/input/titanic/gender_submission.csv\n"
     ]
    }
   ],
   "source": [
    "# This Python 3 environment comes with many helpful analytics libraries installed\n",
    "# It is defined by the kaggle/python Docker image: https://github.com/kaggle/docker-python\n",
    "# For example, here's several helpful packages to load\n",
    "\n",
    "import numpy as np # linear algebra\n",
    "import pandas as pd # data processing, CSV file I/O (e.g. pd.read_csv)\n",
    "\n",
    "# Input data files are available in the read-only \"../input/\" directory\n",
    "# For example, running this (by clicking run or pressing Shift+Enter) will list all files under the input directory\n",
    "\n",
    "import os\n",
    "for dirname, _, filenames in os.walk('/kaggle/input'):\n",
    "    for filename in filenames:\n",
    "        print(os.path.join(dirname, filename))\n",
    "\n",
    "# You can write up to 20GB to the current directory (/kaggle/working/) that gets preserved as output when you create a version using \"Save & Run All\" \n",
    "# You can also write temporary files to /kaggle/temp/, but they won't be saved outside of the current session"
   ]
  },
  {
   "cell_type": "markdown",
   "id": "81a3ee03",
   "metadata": {
    "papermill": {
     "duration": 0.003045,
     "end_time": "2023-01-11T15:49:53.582513",
     "exception": false,
     "start_time": "2023-01-11T15:49:53.579468",
     "status": "completed"
    },
    "tags": []
   },
   "source": [
    "Importing Libraries"
   ]
  },
  {
   "cell_type": "code",
   "execution_count": 2,
   "id": "4ca85a84",
   "metadata": {
    "execution": {
     "iopub.execute_input": "2023-01-11T15:49:53.592017Z",
     "iopub.status.busy": "2023-01-11T15:49:53.591589Z",
     "iopub.status.idle": "2023-01-11T15:49:54.531729Z",
     "shell.execute_reply": "2023-01-11T15:49:54.530818Z"
    },
    "papermill": {
     "duration": 0.947343,
     "end_time": "2023-01-11T15:49:54.533919",
     "exception": false,
     "start_time": "2023-01-11T15:49:53.586576",
     "status": "completed"
    },
    "tags": []
   },
   "outputs": [],
   "source": [
    "import numpy as np \n",
    "import pandas as pd\n",
    "import matplotlib.pyplot as plt\n",
    "from sklearn.model_selection import train_test_split\n",
    "from sklearn.linear_model import LogisticRegression\n",
    "from sklearn.metrics import accuracy_score"
   ]
  },
  {
   "cell_type": "markdown",
   "id": "5bcd53cc",
   "metadata": {
    "papermill": {
     "duration": 0.003101,
     "end_time": "2023-01-11T15:49:54.540562",
     "exception": false,
     "start_time": "2023-01-11T15:49:54.537461",
     "status": "completed"
    },
    "tags": []
   },
   "source": [
    "Data Collection and Processing"
   ]
  },
  {
   "cell_type": "code",
   "execution_count": 3,
   "id": "0df9bc2e",
   "metadata": {
    "execution": {
     "iopub.execute_input": "2023-01-11T15:49:54.548896Z",
     "iopub.status.busy": "2023-01-11T15:49:54.548550Z",
     "iopub.status.idle": "2023-01-11T15:49:54.569779Z",
     "shell.execute_reply": "2023-01-11T15:49:54.568819Z"
    },
    "papermill": {
     "duration": 0.028461,
     "end_time": "2023-01-11T15:49:54.572243",
     "exception": false,
     "start_time": "2023-01-11T15:49:54.543782",
     "status": "completed"
    },
    "tags": []
   },
   "outputs": [],
   "source": [
    "# Loading the Data from CSV file to Pandas DataFrame.\n",
    "\n",
    "titanicData = pd.read_csv(\"/kaggle/input/titanic/train.csv\")"
   ]
  },
  {
   "cell_type": "code",
   "execution_count": 4,
   "id": "8f3bf064",
   "metadata": {
    "execution": {
     "iopub.execute_input": "2023-01-11T15:49:54.580669Z",
     "iopub.status.busy": "2023-01-11T15:49:54.580303Z",
     "iopub.status.idle": "2023-01-11T15:49:54.603020Z",
     "shell.execute_reply": "2023-01-11T15:49:54.601708Z"
    },
    "papermill": {
     "duration": 0.029099,
     "end_time": "2023-01-11T15:49:54.604936",
     "exception": false,
     "start_time": "2023-01-11T15:49:54.575837",
     "status": "completed"
    },
    "tags": []
   },
   "outputs": [
    {
     "data": {
      "text/html": [
       "<div>\n",
       "<style scoped>\n",
       "    .dataframe tbody tr th:only-of-type {\n",
       "        vertical-align: middle;\n",
       "    }\n",
       "\n",
       "    .dataframe tbody tr th {\n",
       "        vertical-align: top;\n",
       "    }\n",
       "\n",
       "    .dataframe thead th {\n",
       "        text-align: right;\n",
       "    }\n",
       "</style>\n",
       "<table border=\"1\" class=\"dataframe\">\n",
       "  <thead>\n",
       "    <tr style=\"text-align: right;\">\n",
       "      <th></th>\n",
       "      <th>PassengerId</th>\n",
       "      <th>Survived</th>\n",
       "      <th>Pclass</th>\n",
       "      <th>Name</th>\n",
       "      <th>Sex</th>\n",
       "      <th>Age</th>\n",
       "      <th>SibSp</th>\n",
       "      <th>Parch</th>\n",
       "      <th>Ticket</th>\n",
       "      <th>Fare</th>\n",
       "      <th>Cabin</th>\n",
       "      <th>Embarked</th>\n",
       "    </tr>\n",
       "  </thead>\n",
       "  <tbody>\n",
       "    <tr>\n",
       "      <th>0</th>\n",
       "      <td>1</td>\n",
       "      <td>0</td>\n",
       "      <td>3</td>\n",
       "      <td>Braund, Mr. Owen Harris</td>\n",
       "      <td>male</td>\n",
       "      <td>22.0</td>\n",
       "      <td>1</td>\n",
       "      <td>0</td>\n",
       "      <td>A/5 21171</td>\n",
       "      <td>7.2500</td>\n",
       "      <td>NaN</td>\n",
       "      <td>S</td>\n",
       "    </tr>\n",
       "    <tr>\n",
       "      <th>1</th>\n",
       "      <td>2</td>\n",
       "      <td>1</td>\n",
       "      <td>1</td>\n",
       "      <td>Cumings, Mrs. John Bradley (Florence Briggs Th...</td>\n",
       "      <td>female</td>\n",
       "      <td>38.0</td>\n",
       "      <td>1</td>\n",
       "      <td>0</td>\n",
       "      <td>PC 17599</td>\n",
       "      <td>71.2833</td>\n",
       "      <td>C85</td>\n",
       "      <td>C</td>\n",
       "    </tr>\n",
       "    <tr>\n",
       "      <th>2</th>\n",
       "      <td>3</td>\n",
       "      <td>1</td>\n",
       "      <td>3</td>\n",
       "      <td>Heikkinen, Miss. Laina</td>\n",
       "      <td>female</td>\n",
       "      <td>26.0</td>\n",
       "      <td>0</td>\n",
       "      <td>0</td>\n",
       "      <td>STON/O2. 3101282</td>\n",
       "      <td>7.9250</td>\n",
       "      <td>NaN</td>\n",
       "      <td>S</td>\n",
       "    </tr>\n",
       "    <tr>\n",
       "      <th>3</th>\n",
       "      <td>4</td>\n",
       "      <td>1</td>\n",
       "      <td>1</td>\n",
       "      <td>Futrelle, Mrs. Jacques Heath (Lily May Peel)</td>\n",
       "      <td>female</td>\n",
       "      <td>35.0</td>\n",
       "      <td>1</td>\n",
       "      <td>0</td>\n",
       "      <td>113803</td>\n",
       "      <td>53.1000</td>\n",
       "      <td>C123</td>\n",
       "      <td>S</td>\n",
       "    </tr>\n",
       "    <tr>\n",
       "      <th>4</th>\n",
       "      <td>5</td>\n",
       "      <td>0</td>\n",
       "      <td>3</td>\n",
       "      <td>Allen, Mr. William Henry</td>\n",
       "      <td>male</td>\n",
       "      <td>35.0</td>\n",
       "      <td>0</td>\n",
       "      <td>0</td>\n",
       "      <td>373450</td>\n",
       "      <td>8.0500</td>\n",
       "      <td>NaN</td>\n",
       "      <td>S</td>\n",
       "    </tr>\n",
       "  </tbody>\n",
       "</table>\n",
       "</div>"
      ],
      "text/plain": [
       "   PassengerId  Survived  Pclass  \\\n",
       "0            1         0       3   \n",
       "1            2         1       1   \n",
       "2            3         1       3   \n",
       "3            4         1       1   \n",
       "4            5         0       3   \n",
       "\n",
       "                                                Name     Sex   Age  SibSp  \\\n",
       "0                            Braund, Mr. Owen Harris    male  22.0      1   \n",
       "1  Cumings, Mrs. John Bradley (Florence Briggs Th...  female  38.0      1   \n",
       "2                             Heikkinen, Miss. Laina  female  26.0      0   \n",
       "3       Futrelle, Mrs. Jacques Heath (Lily May Peel)  female  35.0      1   \n",
       "4                           Allen, Mr. William Henry    male  35.0      0   \n",
       "\n",
       "   Parch            Ticket     Fare Cabin Embarked  \n",
       "0      0         A/5 21171   7.2500   NaN        S  \n",
       "1      0          PC 17599  71.2833   C85        C  \n",
       "2      0  STON/O2. 3101282   7.9250   NaN        S  \n",
       "3      0            113803  53.1000  C123        S  \n",
       "4      0            373450   8.0500   NaN        S  "
      ]
     },
     "execution_count": 4,
     "metadata": {},
     "output_type": "execute_result"
    }
   ],
   "source": [
    "# Printing the Header of the dataframe, Header means first five rows of the dataframe\n",
    "\n",
    "titanicData.head()"
   ]
  },
  {
   "cell_type": "code",
   "execution_count": 5,
   "id": "063d987b",
   "metadata": {
    "execution": {
     "iopub.execute_input": "2023-01-11T15:49:54.614618Z",
     "iopub.status.busy": "2023-01-11T15:49:54.613678Z",
     "iopub.status.idle": "2023-01-11T15:49:54.619010Z",
     "shell.execute_reply": "2023-01-11T15:49:54.618183Z"
    },
    "papermill": {
     "duration": 0.012377,
     "end_time": "2023-01-11T15:49:54.621144",
     "exception": false,
     "start_time": "2023-01-11T15:49:54.608767",
     "status": "completed"
    },
    "tags": []
   },
   "outputs": [
    {
     "data": {
      "text/plain": [
       "(891, 12)"
      ]
     },
     "execution_count": 5,
     "metadata": {},
     "output_type": "execute_result"
    }
   ],
   "source": [
    "# Number of Rows and Columns \n",
    "titanicData.shape"
   ]
  },
  {
   "cell_type": "code",
   "execution_count": 6,
   "id": "cfdd83ee",
   "metadata": {
    "execution": {
     "iopub.execute_input": "2023-01-11T15:49:54.630242Z",
     "iopub.status.busy": "2023-01-11T15:49:54.629931Z",
     "iopub.status.idle": "2023-01-11T15:49:54.653873Z",
     "shell.execute_reply": "2023-01-11T15:49:54.652185Z"
    },
    "papermill": {
     "duration": 0.03082,
     "end_time": "2023-01-11T15:49:54.656027",
     "exception": false,
     "start_time": "2023-01-11T15:49:54.625207",
     "status": "completed"
    },
    "tags": []
   },
   "outputs": [
    {
     "name": "stdout",
     "output_type": "stream",
     "text": [
      "<class 'pandas.core.frame.DataFrame'>\n",
      "RangeIndex: 891 entries, 0 to 890\n",
      "Data columns (total 12 columns):\n",
      " #   Column       Non-Null Count  Dtype  \n",
      "---  ------       --------------  -----  \n",
      " 0   PassengerId  891 non-null    int64  \n",
      " 1   Survived     891 non-null    int64  \n",
      " 2   Pclass       891 non-null    int64  \n",
      " 3   Name         891 non-null    object \n",
      " 4   Sex          891 non-null    object \n",
      " 5   Age          714 non-null    float64\n",
      " 6   SibSp        891 non-null    int64  \n",
      " 7   Parch        891 non-null    int64  \n",
      " 8   Ticket       891 non-null    object \n",
      " 9   Fare         891 non-null    float64\n",
      " 10  Cabin        204 non-null    object \n",
      " 11  Embarked     889 non-null    object \n",
      "dtypes: float64(2), int64(5), object(5)\n",
      "memory usage: 83.7+ KB\n"
     ]
    }
   ],
   "source": [
    "# Getting Some Information about data. \n",
    "\n",
    "titanicData.info()\n",
    "# There are 891 rows, but in some columns there are 714 non-null values which means ..\n",
    "# ... these Columns have some null values."
   ]
  },
  {
   "cell_type": "code",
   "execution_count": 7,
   "id": "54901abf",
   "metadata": {
    "execution": {
     "iopub.execute_input": "2023-01-11T15:49:54.664870Z",
     "iopub.status.busy": "2023-01-11T15:49:54.664551Z",
     "iopub.status.idle": "2023-01-11T15:49:54.673777Z",
     "shell.execute_reply": "2023-01-11T15:49:54.672772Z"
    },
    "papermill": {
     "duration": 0.016105,
     "end_time": "2023-01-11T15:49:54.675999",
     "exception": false,
     "start_time": "2023-01-11T15:49:54.659894",
     "status": "completed"
    },
    "tags": []
   },
   "outputs": [
    {
     "data": {
      "text/plain": [
       "PassengerId      0\n",
       "Survived         0\n",
       "Pclass           0\n",
       "Name             0\n",
       "Sex              0\n",
       "Age            177\n",
       "SibSp            0\n",
       "Parch            0\n",
       "Ticket           0\n",
       "Fare             0\n",
       "Cabin          687\n",
       "Embarked         2\n",
       "dtype: int64"
      ]
     },
     "execution_count": 7,
     "metadata": {},
     "output_type": "execute_result"
    }
   ],
   "source": [
    "# Checking Missing Values in each Column\n",
    "\n",
    "titanicData.isnull().sum()\n",
    "\n",
    "# We have 177 missing values in our Age Column\n",
    "# We have 687 missing values in our Cabin Column\n",
    "# We have 2 missing values in our Embarked Column"
   ]
  },
  {
   "cell_type": "markdown",
   "id": "3e5aa8ec",
   "metadata": {
    "papermill": {
     "duration": 0.003905,
     "end_time": "2023-01-11T15:49:54.684369",
     "exception": false,
     "start_time": "2023-01-11T15:49:54.680464",
     "status": "completed"
    },
    "tags": []
   },
   "source": [
    "Handling the Missing Values"
   ]
  },
  {
   "cell_type": "code",
   "execution_count": 8,
   "id": "b6ed1812",
   "metadata": {
    "execution": {
     "iopub.execute_input": "2023-01-11T15:49:54.693953Z",
     "iopub.status.busy": "2023-01-11T15:49:54.693308Z",
     "iopub.status.idle": "2023-01-11T15:49:54.700515Z",
     "shell.execute_reply": "2023-01-11T15:49:54.699224Z"
    },
    "papermill": {
     "duration": 0.014881,
     "end_time": "2023-01-11T15:49:54.703122",
     "exception": false,
     "start_time": "2023-01-11T15:49:54.688241",
     "status": "completed"
    },
    "tags": []
   },
   "outputs": [],
   "source": [
    "# Dropping the Cabin Column because there are so many Missing values/NaN values \n",
    "# Column `Cabin` has a significant amount of missing values so we can't delete records of empty Cabin values.\n",
    "# we have to drop Column `Cabin`\n",
    "\n",
    "titanicData = titanicData.drop(columns='Cabin', axis = 1)"
   ]
  },
  {
   "cell_type": "code",
   "execution_count": 9,
   "id": "04fbe23d",
   "metadata": {
    "execution": {
     "iopub.execute_input": "2023-01-11T15:49:54.714003Z",
     "iopub.status.busy": "2023-01-11T15:49:54.713120Z",
     "iopub.status.idle": "2023-01-11T15:49:54.719691Z",
     "shell.execute_reply": "2023-01-11T15:49:54.718442Z"
    },
    "papermill": {
     "duration": 0.013522,
     "end_time": "2023-01-11T15:49:54.721433",
     "exception": false,
     "start_time": "2023-01-11T15:49:54.707911",
     "status": "completed"
    },
    "tags": []
   },
   "outputs": [],
   "source": [
    "# Replacing the Missing Values in `Age` Column with Mean Values \n",
    "# inplace = True means changes are occuring in the actual dataframe and we don't\n",
    "# .. to explicitly save it\n",
    "# The fillna() function is used to fill NA/NaN values using the specified method\n",
    "\n",
    "titanicData['Age'].fillna(titanicData['Age'].mean(), inplace = True )"
   ]
  },
  {
   "cell_type": "code",
   "execution_count": 10,
   "id": "10397b12",
   "metadata": {
    "execution": {
     "iopub.execute_input": "2023-01-11T15:49:54.731657Z",
     "iopub.status.busy": "2023-01-11T15:49:54.730997Z",
     "iopub.status.idle": "2023-01-11T15:49:54.741606Z",
     "shell.execute_reply": "2023-01-11T15:49:54.740465Z"
    },
    "papermill": {
     "duration": 0.017632,
     "end_time": "2023-01-11T15:49:54.743294",
     "exception": false,
     "start_time": "2023-01-11T15:49:54.725662",
     "status": "completed"
    },
    "tags": []
   },
   "outputs": [
    {
     "name": "stdout",
     "output_type": "stream",
     "text": [
      "<class 'pandas.core.frame.DataFrame'>\n",
      "RangeIndex: 891 entries, 0 to 890\n",
      "Data columns (total 11 columns):\n",
      " #   Column       Non-Null Count  Dtype  \n",
      "---  ------       --------------  -----  \n",
      " 0   PassengerId  891 non-null    int64  \n",
      " 1   Survived     891 non-null    int64  \n",
      " 2   Pclass       891 non-null    int64  \n",
      " 3   Name         891 non-null    object \n",
      " 4   Sex          891 non-null    object \n",
      " 5   Age          891 non-null    float64\n",
      " 6   SibSp        891 non-null    int64  \n",
      " 7   Parch        891 non-null    int64  \n",
      " 8   Ticket       891 non-null    object \n",
      " 9   Fare         891 non-null    float64\n",
      " 10  Embarked     889 non-null    object \n",
      "dtypes: float64(2), int64(5), object(4)\n",
      "memory usage: 76.7+ KB\n"
     ]
    }
   ],
   "source": [
    "titanicData.info()\n",
    "# we got the right result that is no null values. "
   ]
  },
  {
   "cell_type": "code",
   "execution_count": null,
   "id": "730f18ce",
   "metadata": {
    "papermill": {
     "duration": 0.003623,
     "end_time": "2023-01-11T15:49:54.751027",
     "exception": false,
     "start_time": "2023-01-11T15:49:54.747404",
     "status": "completed"
    },
    "tags": []
   },
   "outputs": [],
   "source": []
  }
 ],
 "metadata": {
  "kernelspec": {
   "display_name": "Python 3",
   "language": "python",
   "name": "python3"
  },
  "language_info": {
   "codemirror_mode": {
    "name": "ipython",
    "version": 3
   },
   "file_extension": ".py",
   "mimetype": "text/x-python",
   "name": "python",
   "nbconvert_exporter": "python",
   "pygments_lexer": "ipython3",
   "version": "3.7.12"
  },
  "papermill": {
   "default_parameters": {},
   "duration": 8.855094,
   "end_time": "2023-01-11T15:49:55.374669",
   "environment_variables": {},
   "exception": null,
   "input_path": "__notebook__.ipynb",
   "output_path": "__notebook__.ipynb",
   "parameters": {},
   "start_time": "2023-01-11T15:49:46.519575",
   "version": "2.3.4"
  }
 },
 "nbformat": 4,
 "nbformat_minor": 5
}
