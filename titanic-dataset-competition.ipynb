{
 "cells": [
  {
   "cell_type": "code",
   "execution_count": 1,
   "id": "beddff3a",
   "metadata": {
    "_cell_guid": "b1076dfc-b9ad-4769-8c92-a6c4dae69d19",
    "_uuid": "8f2839f25d086af736a60e9eeb907d3b93b6e0e5",
    "execution": {
     "iopub.execute_input": "2023-01-11T14:48:49.452438Z",
     "iopub.status.busy": "2023-01-11T14:48:49.451629Z",
     "iopub.status.idle": "2023-01-11T14:48:49.464757Z",
     "shell.execute_reply": "2023-01-11T14:48:49.463871Z"
    },
    "papermill": {
     "duration": 0.020142,
     "end_time": "2023-01-11T14:48:49.466772",
     "exception": false,
     "start_time": "2023-01-11T14:48:49.446630",
     "status": "completed"
    },
    "tags": []
   },
   "outputs": [
    {
     "name": "stdout",
     "output_type": "stream",
     "text": [
      "/kaggle/input/titanic/train.csv\n",
      "/kaggle/input/titanic/test.csv\n",
      "/kaggle/input/titanic/gender_submission.csv\n"
     ]
    }
   ],
   "source": [
    "# This Python 3 environment comes with many helpful analytics libraries installed\n",
    "# It is defined by the kaggle/python Docker image: https://github.com/kaggle/docker-python\n",
    "# For example, here's several helpful packages to load\n",
    "\n",
    "import numpy as np # linear algebra\n",
    "import pandas as pd # data processing, CSV file I/O (e.g. pd.read_csv)\n",
    "\n",
    "# Input data files are available in the read-only \"../input/\" directory\n",
    "# For example, running this (by clicking run or pressing Shift+Enter) will list all files under the input directory\n",
    "\n",
    "import os\n",
    "for dirname, _, filenames in os.walk('/kaggle/input'):\n",
    "    for filename in filenames:\n",
    "        print(os.path.join(dirname, filename))\n",
    "\n",
    "# You can write up to 20GB to the current directory (/kaggle/working/) that gets preserved as output when you create a version using \"Save & Run All\" \n",
    "# You can also write temporary files to /kaggle/temp/, but they won't be saved outside of the current session"
   ]
  },
  {
   "cell_type": "markdown",
   "id": "b8e42135",
   "metadata": {
    "papermill": {
     "duration": 0.001753,
     "end_time": "2023-01-11T14:48:49.470802",
     "exception": false,
     "start_time": "2023-01-11T14:48:49.469049",
     "status": "completed"
    },
    "tags": []
   },
   "source": [
    "Importing Libraries"
   ]
  },
  {
   "cell_type": "code",
   "execution_count": 2,
   "id": "a93ef594",
   "metadata": {
    "execution": {
     "iopub.execute_input": "2023-01-11T14:48:49.476554Z",
     "iopub.status.busy": "2023-01-11T14:48:49.475891Z",
     "iopub.status.idle": "2023-01-11T14:48:50.597148Z",
     "shell.execute_reply": "2023-01-11T14:48:50.596006Z"
    },
    "papermill": {
     "duration": 1.126626,
     "end_time": "2023-01-11T14:48:50.599318",
     "exception": false,
     "start_time": "2023-01-11T14:48:49.472692",
     "status": "completed"
    },
    "tags": []
   },
   "outputs": [],
   "source": [
    "import numpy as np \n",
    "import pandas as pd\n",
    "import matplotlib.pyplot as plt\n",
    "from sklearn.model_selection import train_test_split\n",
    "from sklearn.linear_model import LogisticRegression\n",
    "from sklearn.metrics import accuracy_score"
   ]
  },
  {
   "cell_type": "markdown",
   "id": "9fd8850f",
   "metadata": {
    "papermill": {
     "duration": 0.001704,
     "end_time": "2023-01-11T14:48:50.603169",
     "exception": false,
     "start_time": "2023-01-11T14:48:50.601465",
     "status": "completed"
    },
    "tags": []
   },
   "source": [
    "Data Collection and Processing"
   ]
  },
  {
   "cell_type": "code",
   "execution_count": 3,
   "id": "f053ee28",
   "metadata": {
    "execution": {
     "iopub.execute_input": "2023-01-11T14:48:50.609171Z",
     "iopub.status.busy": "2023-01-11T14:48:50.608047Z",
     "iopub.status.idle": "2023-01-11T14:48:50.629508Z",
     "shell.execute_reply": "2023-01-11T14:48:50.628292Z"
    },
    "papermill": {
     "duration": 0.026832,
     "end_time": "2023-01-11T14:48:50.631931",
     "exception": false,
     "start_time": "2023-01-11T14:48:50.605099",
     "status": "completed"
    },
    "tags": []
   },
   "outputs": [],
   "source": [
    "# Loading the Data from CSV file to Pandas DataFrame.\n",
    "\n",
    "titanicData = pd.read_csv(\"/kaggle/input/titanic/train.csv\")"
   ]
  },
  {
   "cell_type": "code",
   "execution_count": null,
   "id": "0a5daea8",
   "metadata": {
    "papermill": {
     "duration": 0.001739,
     "end_time": "2023-01-11T14:48:50.635943",
     "exception": false,
     "start_time": "2023-01-11T14:48:50.634204",
     "status": "completed"
    },
    "tags": []
   },
   "outputs": [],
   "source": []
  }
 ],
 "metadata": {
  "kernelspec": {
   "display_name": "Python 3",
   "language": "python",
   "name": "python3"
  },
  "language_info": {
   "codemirror_mode": {
    "name": "ipython",
    "version": 3
   },
   "file_extension": ".py",
   "mimetype": "text/x-python",
   "name": "python",
   "nbconvert_exporter": "python",
   "pygments_lexer": "ipython3",
   "version": "3.7.12"
  },
  "papermill": {
   "default_parameters": {},
   "duration": 11.129868,
   "end_time": "2023-01-11T14:48:51.360006",
   "environment_variables": {},
   "exception": null,
   "input_path": "__notebook__.ipynb",
   "output_path": "__notebook__.ipynb",
   "parameters": {},
   "start_time": "2023-01-11T14:48:40.230138",
   "version": "2.3.4"
  }
 },
 "nbformat": 4,
 "nbformat_minor": 5
}
