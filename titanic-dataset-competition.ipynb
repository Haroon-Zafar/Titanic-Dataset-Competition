{
 "cells": [
  {
   "cell_type": "code",
   "execution_count": 1,
   "id": "1b9d1292",
   "metadata": {
    "_cell_guid": "b1076dfc-b9ad-4769-8c92-a6c4dae69d19",
    "_uuid": "8f2839f25d086af736a60e9eeb907d3b93b6e0e5",
    "execution": {
     "iopub.execute_input": "2023-01-11T15:35:42.125804Z",
     "iopub.status.busy": "2023-01-11T15:35:42.125038Z",
     "iopub.status.idle": "2023-01-11T15:35:42.142766Z",
     "shell.execute_reply": "2023-01-11T15:35:42.141504Z"
    },
    "papermill": {
     "duration": 0.028396,
     "end_time": "2023-01-11T15:35:42.146168",
     "exception": false,
     "start_time": "2023-01-11T15:35:42.117772",
     "status": "completed"
    },
    "tags": []
   },
   "outputs": [
    {
     "name": "stdout",
     "output_type": "stream",
     "text": [
      "/kaggle/input/titanic/train.csv\n",
      "/kaggle/input/titanic/test.csv\n",
      "/kaggle/input/titanic/gender_submission.csv\n"
     ]
    }
   ],
   "source": [
    "# This Python 3 environment comes with many helpful analytics libraries installed\n",
    "# It is defined by the kaggle/python Docker image: https://github.com/kaggle/docker-python\n",
    "# For example, here's several helpful packages to load\n",
    "\n",
    "import numpy as np # linear algebra\n",
    "import pandas as pd # data processing, CSV file I/O (e.g. pd.read_csv)\n",
    "\n",
    "# Input data files are available in the read-only \"../input/\" directory\n",
    "# For example, running this (by clicking run or pressing Shift+Enter) will list all files under the input directory\n",
    "\n",
    "import os\n",
    "for dirname, _, filenames in os.walk('/kaggle/input'):\n",
    "    for filename in filenames:\n",
    "        print(os.path.join(dirname, filename))\n",
    "\n",
    "# You can write up to 20GB to the current directory (/kaggle/working/) that gets preserved as output when you create a version using \"Save & Run All\" \n",
    "# You can also write temporary files to /kaggle/temp/, but they won't be saved outside of the current session"
   ]
  },
  {
   "cell_type": "markdown",
   "id": "eb22345e",
   "metadata": {
    "papermill": {
     "duration": 0.003139,
     "end_time": "2023-01-11T15:35:42.153874",
     "exception": false,
     "start_time": "2023-01-11T15:35:42.150735",
     "status": "completed"
    },
    "tags": []
   },
   "source": [
    "Importing Libraries"
   ]
  },
  {
   "cell_type": "code",
   "execution_count": 2,
   "id": "80a3f827",
   "metadata": {
    "execution": {
     "iopub.execute_input": "2023-01-11T15:35:42.163226Z",
     "iopub.status.busy": "2023-01-11T15:35:42.162034Z",
     "iopub.status.idle": "2023-01-11T15:35:43.478317Z",
     "shell.execute_reply": "2023-01-11T15:35:43.477176Z"
    },
    "papermill": {
     "duration": 1.324316,
     "end_time": "2023-01-11T15:35:43.481490",
     "exception": false,
     "start_time": "2023-01-11T15:35:42.157174",
     "status": "completed"
    },
    "tags": []
   },
   "outputs": [],
   "source": [
    "import numpy as np \n",
    "import pandas as pd\n",
    "import matplotlib.pyplot as plt\n",
    "from sklearn.model_selection import train_test_split\n",
    "from sklearn.linear_model import LogisticRegression\n",
    "from sklearn.metrics import accuracy_score"
   ]
  },
  {
   "cell_type": "markdown",
   "id": "472d61f4",
   "metadata": {
    "papermill": {
     "duration": 0.002956,
     "end_time": "2023-01-11T15:35:43.487973",
     "exception": false,
     "start_time": "2023-01-11T15:35:43.485017",
     "status": "completed"
    },
    "tags": []
   },
   "source": [
    "Data Collection and Processing"
   ]
  },
  {
   "cell_type": "code",
   "execution_count": 3,
   "id": "4acb6f2a",
   "metadata": {
    "execution": {
     "iopub.execute_input": "2023-01-11T15:35:43.496144Z",
     "iopub.status.busy": "2023-01-11T15:35:43.495601Z",
     "iopub.status.idle": "2023-01-11T15:35:43.520497Z",
     "shell.execute_reply": "2023-01-11T15:35:43.519364Z"
    },
    "papermill": {
     "duration": 0.032045,
     "end_time": "2023-01-11T15:35:43.523170",
     "exception": false,
     "start_time": "2023-01-11T15:35:43.491125",
     "status": "completed"
    },
    "tags": []
   },
   "outputs": [],
   "source": [
    "# Loading the Data from CSV file to Pandas DataFrame.\n",
    "\n",
    "titanicData = pd.read_csv(\"/kaggle/input/titanic/train.csv\")"
   ]
  },
  {
   "cell_type": "code",
   "execution_count": 4,
   "id": "442b75ad",
   "metadata": {
    "execution": {
     "iopub.execute_input": "2023-01-11T15:35:43.531776Z",
     "iopub.status.busy": "2023-01-11T15:35:43.531343Z",
     "iopub.status.idle": "2023-01-11T15:35:43.558670Z",
     "shell.execute_reply": "2023-01-11T15:35:43.557791Z"
    },
    "papermill": {
     "duration": 0.034615,
     "end_time": "2023-01-11T15:35:43.561199",
     "exception": false,
     "start_time": "2023-01-11T15:35:43.526584",
     "status": "completed"
    },
    "tags": []
   },
   "outputs": [
    {
     "data": {
      "text/html": [
       "<div>\n",
       "<style scoped>\n",
       "    .dataframe tbody tr th:only-of-type {\n",
       "        vertical-align: middle;\n",
       "    }\n",
       "\n",
       "    .dataframe tbody tr th {\n",
       "        vertical-align: top;\n",
       "    }\n",
       "\n",
       "    .dataframe thead th {\n",
       "        text-align: right;\n",
       "    }\n",
       "</style>\n",
       "<table border=\"1\" class=\"dataframe\">\n",
       "  <thead>\n",
       "    <tr style=\"text-align: right;\">\n",
       "      <th></th>\n",
       "      <th>PassengerId</th>\n",
       "      <th>Survived</th>\n",
       "      <th>Pclass</th>\n",
       "      <th>Name</th>\n",
       "      <th>Sex</th>\n",
       "      <th>Age</th>\n",
       "      <th>SibSp</th>\n",
       "      <th>Parch</th>\n",
       "      <th>Ticket</th>\n",
       "      <th>Fare</th>\n",
       "      <th>Cabin</th>\n",
       "      <th>Embarked</th>\n",
       "    </tr>\n",
       "  </thead>\n",
       "  <tbody>\n",
       "    <tr>\n",
       "      <th>0</th>\n",
       "      <td>1</td>\n",
       "      <td>0</td>\n",
       "      <td>3</td>\n",
       "      <td>Braund, Mr. Owen Harris</td>\n",
       "      <td>male</td>\n",
       "      <td>22.0</td>\n",
       "      <td>1</td>\n",
       "      <td>0</td>\n",
       "      <td>A/5 21171</td>\n",
       "      <td>7.2500</td>\n",
       "      <td>NaN</td>\n",
       "      <td>S</td>\n",
       "    </tr>\n",
       "    <tr>\n",
       "      <th>1</th>\n",
       "      <td>2</td>\n",
       "      <td>1</td>\n",
       "      <td>1</td>\n",
       "      <td>Cumings, Mrs. John Bradley (Florence Briggs Th...</td>\n",
       "      <td>female</td>\n",
       "      <td>38.0</td>\n",
       "      <td>1</td>\n",
       "      <td>0</td>\n",
       "      <td>PC 17599</td>\n",
       "      <td>71.2833</td>\n",
       "      <td>C85</td>\n",
       "      <td>C</td>\n",
       "    </tr>\n",
       "    <tr>\n",
       "      <th>2</th>\n",
       "      <td>3</td>\n",
       "      <td>1</td>\n",
       "      <td>3</td>\n",
       "      <td>Heikkinen, Miss. Laina</td>\n",
       "      <td>female</td>\n",
       "      <td>26.0</td>\n",
       "      <td>0</td>\n",
       "      <td>0</td>\n",
       "      <td>STON/O2. 3101282</td>\n",
       "      <td>7.9250</td>\n",
       "      <td>NaN</td>\n",
       "      <td>S</td>\n",
       "    </tr>\n",
       "    <tr>\n",
       "      <th>3</th>\n",
       "      <td>4</td>\n",
       "      <td>1</td>\n",
       "      <td>1</td>\n",
       "      <td>Futrelle, Mrs. Jacques Heath (Lily May Peel)</td>\n",
       "      <td>female</td>\n",
       "      <td>35.0</td>\n",
       "      <td>1</td>\n",
       "      <td>0</td>\n",
       "      <td>113803</td>\n",
       "      <td>53.1000</td>\n",
       "      <td>C123</td>\n",
       "      <td>S</td>\n",
       "    </tr>\n",
       "    <tr>\n",
       "      <th>4</th>\n",
       "      <td>5</td>\n",
       "      <td>0</td>\n",
       "      <td>3</td>\n",
       "      <td>Allen, Mr. William Henry</td>\n",
       "      <td>male</td>\n",
       "      <td>35.0</td>\n",
       "      <td>0</td>\n",
       "      <td>0</td>\n",
       "      <td>373450</td>\n",
       "      <td>8.0500</td>\n",
       "      <td>NaN</td>\n",
       "      <td>S</td>\n",
       "    </tr>\n",
       "  </tbody>\n",
       "</table>\n",
       "</div>"
      ],
      "text/plain": [
       "   PassengerId  Survived  Pclass  \\\n",
       "0            1         0       3   \n",
       "1            2         1       1   \n",
       "2            3         1       3   \n",
       "3            4         1       1   \n",
       "4            5         0       3   \n",
       "\n",
       "                                                Name     Sex   Age  SibSp  \\\n",
       "0                            Braund, Mr. Owen Harris    male  22.0      1   \n",
       "1  Cumings, Mrs. John Bradley (Florence Briggs Th...  female  38.0      1   \n",
       "2                             Heikkinen, Miss. Laina  female  26.0      0   \n",
       "3       Futrelle, Mrs. Jacques Heath (Lily May Peel)  female  35.0      1   \n",
       "4                           Allen, Mr. William Henry    male  35.0      0   \n",
       "\n",
       "   Parch            Ticket     Fare Cabin Embarked  \n",
       "0      0         A/5 21171   7.2500   NaN        S  \n",
       "1      0          PC 17599  71.2833   C85        C  \n",
       "2      0  STON/O2. 3101282   7.9250   NaN        S  \n",
       "3      0            113803  53.1000  C123        S  \n",
       "4      0            373450   8.0500   NaN        S  "
      ]
     },
     "execution_count": 4,
     "metadata": {},
     "output_type": "execute_result"
    }
   ],
   "source": [
    "# Printing the Header of the dataframe, Header means first five rows of the dataframe\n",
    "\n",
    "titanicData.head()"
   ]
  },
  {
   "cell_type": "code",
   "execution_count": 5,
   "id": "680a8ef0",
   "metadata": {
    "execution": {
     "iopub.execute_input": "2023-01-11T15:35:43.570080Z",
     "iopub.status.busy": "2023-01-11T15:35:43.569624Z",
     "iopub.status.idle": "2023-01-11T15:35:43.576195Z",
     "shell.execute_reply": "2023-01-11T15:35:43.575414Z"
    },
    "papermill": {
     "duration": 0.013644,
     "end_time": "2023-01-11T15:35:43.578406",
     "exception": false,
     "start_time": "2023-01-11T15:35:43.564762",
     "status": "completed"
    },
    "tags": []
   },
   "outputs": [
    {
     "data": {
      "text/plain": [
       "(891, 12)"
      ]
     },
     "execution_count": 5,
     "metadata": {},
     "output_type": "execute_result"
    }
   ],
   "source": [
    "# Number of Rows and Columns \n",
    "titanicData.shape"
   ]
  },
  {
   "cell_type": "code",
   "execution_count": 6,
   "id": "434dcd57",
   "metadata": {
    "execution": {
     "iopub.execute_input": "2023-01-11T15:35:43.588065Z",
     "iopub.status.busy": "2023-01-11T15:35:43.587391Z",
     "iopub.status.idle": "2023-01-11T15:35:43.615433Z",
     "shell.execute_reply": "2023-01-11T15:35:43.613673Z"
    },
    "papermill": {
     "duration": 0.036211,
     "end_time": "2023-01-11T15:35:43.618379",
     "exception": false,
     "start_time": "2023-01-11T15:35:43.582168",
     "status": "completed"
    },
    "tags": []
   },
   "outputs": [
    {
     "name": "stdout",
     "output_type": "stream",
     "text": [
      "<class 'pandas.core.frame.DataFrame'>\n",
      "RangeIndex: 891 entries, 0 to 890\n",
      "Data columns (total 12 columns):\n",
      " #   Column       Non-Null Count  Dtype  \n",
      "---  ------       --------------  -----  \n",
      " 0   PassengerId  891 non-null    int64  \n",
      " 1   Survived     891 non-null    int64  \n",
      " 2   Pclass       891 non-null    int64  \n",
      " 3   Name         891 non-null    object \n",
      " 4   Sex          891 non-null    object \n",
      " 5   Age          714 non-null    float64\n",
      " 6   SibSp        891 non-null    int64  \n",
      " 7   Parch        891 non-null    int64  \n",
      " 8   Ticket       891 non-null    object \n",
      " 9   Fare         891 non-null    float64\n",
      " 10  Cabin        204 non-null    object \n",
      " 11  Embarked     889 non-null    object \n",
      "dtypes: float64(2), int64(5), object(5)\n",
      "memory usage: 83.7+ KB\n"
     ]
    }
   ],
   "source": [
    "# Getting Some Information about data. \n",
    "\n",
    "titanicData.info()\n",
    "# There are 891 rows, but in some columns there are 714 non-null values which means ..\n",
    "# ... these Columns have some null values."
   ]
  },
  {
   "cell_type": "code",
   "execution_count": 7,
   "id": "9fd9826f",
   "metadata": {
    "execution": {
     "iopub.execute_input": "2023-01-11T15:35:43.627583Z",
     "iopub.status.busy": "2023-01-11T15:35:43.627170Z",
     "iopub.status.idle": "2023-01-11T15:35:43.637518Z",
     "shell.execute_reply": "2023-01-11T15:35:43.636401Z"
    },
    "papermill": {
     "duration": 0.017491,
     "end_time": "2023-01-11T15:35:43.639762",
     "exception": false,
     "start_time": "2023-01-11T15:35:43.622271",
     "status": "completed"
    },
    "tags": []
   },
   "outputs": [
    {
     "data": {
      "text/plain": [
       "PassengerId      0\n",
       "Survived         0\n",
       "Pclass           0\n",
       "Name             0\n",
       "Sex              0\n",
       "Age            177\n",
       "SibSp            0\n",
       "Parch            0\n",
       "Ticket           0\n",
       "Fare             0\n",
       "Cabin          687\n",
       "Embarked         2\n",
       "dtype: int64"
      ]
     },
     "execution_count": 7,
     "metadata": {},
     "output_type": "execute_result"
    }
   ],
   "source": [
    "# Checking Missing Values in each Column\n",
    "\n",
    "titanicData.isnull().sum()\n",
    "\n",
    "# We have 177 missing values in our Age Column\n",
    "# We have 687 missing values in our Cabin Column\n",
    "# We have 2 missing values in our Embarked Column"
   ]
  },
  {
   "cell_type": "code",
   "execution_count": null,
   "id": "fc4608cf",
   "metadata": {
    "papermill": {
     "duration": 0.003585,
     "end_time": "2023-01-11T15:35:43.647196",
     "exception": false,
     "start_time": "2023-01-11T15:35:43.643611",
     "status": "completed"
    },
    "tags": []
   },
   "outputs": [],
   "source": []
  }
 ],
 "metadata": {
  "kernelspec": {
   "display_name": "Python 3",
   "language": "python",
   "name": "python3"
  },
  "language_info": {
   "codemirror_mode": {
    "name": "ipython",
    "version": 3
   },
   "file_extension": ".py",
   "mimetype": "text/x-python",
   "name": "python",
   "nbconvert_exporter": "python",
   "pygments_lexer": "ipython3",
   "version": "3.7.12"
  },
  "papermill": {
   "default_parameters": {},
   "duration": 13.069431,
   "end_time": "2023-01-11T15:35:44.476024",
   "environment_variables": {},
   "exception": null,
   "input_path": "__notebook__.ipynb",
   "output_path": "__notebook__.ipynb",
   "parameters": {},
   "start_time": "2023-01-11T15:35:31.406593",
   "version": "2.3.4"
  }
 },
 "nbformat": 4,
 "nbformat_minor": 5
}
